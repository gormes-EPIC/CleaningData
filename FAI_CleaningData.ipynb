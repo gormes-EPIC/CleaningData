{
 "cells": [
  {
   "cell_type": "markdown",
   "metadata": {},
   "source": [
    "# Lab 1.1: Cleaning Data\n",
    "\n",
    "**Objective**\n",
    "\n",
    "1. Formulate a research question answerable by a dataset\n",
    "2. Manipulate the dataset and create a data visualization to answer a research question\n",
    "3. Summarize the steps of the data cleaning process and hypothesize about the importance of cleaning\n",
    "\n",
    "**Rubric**\n",
    "- 6 points: Complete the Jupyter Notebook as described. Analysis and written portions are completed in a professional manner. Use complete sentences and correct grammar.\n",
    "- 5 points: Complete Jupyter Notebook, but does not meet professionalism standards\n",
    "- 4 points: Completes only some of the Jupyter Notebook as described.\n",
    "- 3 points: Missing or incomplete\n",
    "\n",
    "---\n",
    "\n",
    "## Write your question\n",
    "\n",
    "1. Create an account/login to [Kaggle](https://www.kaggle.com/)\n",
    "2. Choose a dataset you are interested in\n",
    "3. Write a research question you can answer by creating a data visualization(graph). Be specific! Make sure your question is actually something your dataset can answer. You will probably need to do some research into how the data was collected in order to write your specific question\n",
    "\n",
    "**Question:**\n"
   ]
  },
  {
   "cell_type": "markdown",
   "metadata": {},
   "source": [
    "## Import and explore the data\n",
    "\n",
    "4. Import your dataset\n"
   ]
  },
  {
   "cell_type": "code",
   "execution_count": null,
   "metadata": {},
   "outputs": [],
   "source": []
  },
  {
   "cell_type": "markdown",
   "metadata": {},
   "source": [
    "5. Explain each of the columns in your dataset \n",
    "\n",
    "- \n",
    "- \n",
    "- \n",
    "  \n",
    "Show the data types for each column. If they do not match what you anticipated, change the datatypes so they make sense."
   ]
  },
  {
   "cell_type": "code",
   "execution_count": null,
   "metadata": {},
   "outputs": [],
   "source": []
  },
  {
   "cell_type": "markdown",
   "metadata": {},
   "source": [
    "6. Check your dataset for missing or incomplete data.\n",
    "\n",
    "How many rows and columns are there?"
   ]
  },
  {
   "cell_type": "code",
   "execution_count": null,
   "metadata": {},
   "outputs": [],
   "source": []
  },
  {
   "cell_type": "markdown",
   "metadata": {},
   "source": [
    "Do you need all of the rows/columns for the data visualization you are making? Remove the extra rows/columns."
   ]
  },
  {
   "cell_type": "markdown",
   "metadata": {},
   "source": [
    "How many data points are in each row? Is there any missing data in your table? If so, how do you want to address the missing data?"
   ]
  },
  {
   "cell_type": "code",
   "execution_count": null,
   "metadata": {},
   "outputs": [],
   "source": []
  },
  {
   "cell_type": "markdown",
   "metadata": {},
   "source": [
    "Does your data include any null values(or something in place of null values)? Replace those characters with `np.nan` values."
   ]
  },
  {
   "cell_type": "code",
   "execution_count": 6,
   "metadata": {},
   "outputs": [],
   "source": []
  },
  {
   "cell_type": "markdown",
   "metadata": {},
   "source": [
    "Does your data have any duplicate values? You will probably want to use `df.duplicated()`."
   ]
  },
  {
   "cell_type": "code",
   "execution_count": 7,
   "metadata": {},
   "outputs": [],
   "source": []
  },
  {
   "cell_type": "markdown",
   "metadata": {},
   "source": [
    "Compute the mean and a 5 number summary for the numeric columns. Do the numbers you are getting make sense? If not, what adjustments do you need to make to your data?"
   ]
  },
  {
   "cell_type": "code",
   "execution_count": null,
   "metadata": {},
   "outputs": [],
   "source": []
  },
  {
   "cell_type": "markdown",
   "metadata": {},
   "source": [
    "Column-by-column, check your data for outliers. \n",
    "- For numeric columns: create a box and whisker plot for the column. Are there any outliers?\n",
    "- For categorical data: group the data by catergory. How many data points are in each category? Do you have extra categories you weren't anticipating?\n",
    "\n",
    "You don't need to do this for columns you are keeping in your `DataFrame` to label the data(Ex: You wanted to make a graph of movie budget to critics rating. You might keep the movie titles as an additional column, but don't need to check them for outliers) "
   ]
  },
  {
   "cell_type": "code",
   "execution_count": null,
   "metadata": {},
   "outputs": [],
   "source": []
  },
  {
   "cell_type": "markdown",
   "metadata": {},
   "source": [
    "## Create your data visualization\n",
    "\n",
    "7. Create your graph using `matplotlib` in the space below. Make sure you include our three required features of graphs."
   ]
  },
  {
   "cell_type": "code",
   "execution_count": 30,
   "metadata": {},
   "outputs": [],
   "source": []
  },
  {
   "cell_type": "markdown",
   "metadata": {},
   "source": [
    "## Wrap-Up\n",
    "\n",
    "What were the steps you took to make your data usable, between importing and graphing? \n",
    "\n",
    "- \n",
    "\n",
    "Why is it important to clean and examine our data before using it? \n"
   ]
  }
 ],
 "metadata": {
  "kernelspec": {
   "display_name": "base",
   "language": "python",
   "name": "python3"
  },
  "language_info": {
   "codemirror_mode": {
    "name": "ipython",
    "version": 3
   },
   "file_extension": ".py",
   "mimetype": "text/x-python",
   "name": "python",
   "nbconvert_exporter": "python",
   "pygments_lexer": "ipython3",
   "version": "3.11.5"
  }
 },
 "nbformat": 4,
 "nbformat_minor": 2
}
